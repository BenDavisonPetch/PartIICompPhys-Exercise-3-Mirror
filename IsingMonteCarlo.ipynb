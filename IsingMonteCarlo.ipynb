{
 "cells": [
  {
   "cell_type": "markdown",
   "metadata": {},
   "source": [
    "## Setup"
   ]
  },
  {
   "cell_type": "code",
   "execution_count": 1,
   "metadata": {},
   "outputs": [],
   "source": [
    "import numpy as np\n",
    "rng = np.random.default_rng()  \n",
    "import matplotlib.pylab as plt"
   ]
  },
  {
   "cell_type": "markdown",
   "metadata": {},
   "source": [
    "## Helpful recources\n",
    "\n",
    "https://hef.ru.nl/~tbudd/mct/lectures/markov_chain_monte_carlo.html\n",
    "\n",
    "https://hef.ru.nl/~tbudd/mct/lectures/cluster_algorithms.html"
   ]
  },
  {
   "cell_type": "markdown",
   "metadata": {},
   "source": [
    "## The 2D Ising model\n",
    "The Ising model is a classical way of describing ferromagnetism using simplified spin-spin interactions. The 2D version of the Ising model considers an $w$ by $w$ square lattice, resulting in $N=w^2$ spin sites. If the lattice is given periodic boundary conditions, as is conventional, each spin will have exactly 4 neighbouring spins. The energy of the system is then given by\n",
    "\n",
    "$ E = -J \\sum_i \\sum_j s_i s_j - \\mu H \\sum^{N}_{i=1} s_i $\n",
    "\n",
    "where we sum over all spins $s_i$ and their neighbours $s_j$ with exchange energy $J$, magnetic moment $\\mu$, and externally applied magnetic field $H$.\n",
    "\n",
    "The most interesting variable of the system is the relative magnetisation of the complete lattice \n",
    "\n",
    "$M = \\frac{1}{N}\\sum_i^N s_i$\n",
    "\n",
    "or the expected total magnetisation\n",
    "\n",
    "$\\mathbb{E}[M(\\mathbf{s})]=\\sum_{s \\in\\{-1,1\\}^N}M(s) p_{\\mathbf{s}}(s)$\n",
    "\n",
    "with $p_{\\mathbf{s}}(s)$ the probability mass function. The magnetisation shows a very strong dependence on the temperature as well as the externally applied magnetic field $H$. The magnetisation can also show a high variance. \n",
    "\n",
    "The analytical approach to calculate compute these expected values would be to use the probability mass function \n",
    "\n",
    "$p_{\\mathbf{s}}(s)=\\frac{1}{Z} e^{-\\beta E}$\n",
    "\n",
    "with partition function\n",
    "\n",
    "$Z=\\sum_{s \\in\\{-1,1\\}^N} e^{-\\beta E}$\n",
    "\n",
    "and inverse temperature $\\beta = \\frac{1}{k_bT}$. However, computing this type of partition function quickly becomes arduous or simply infeasible for a lattice with any interesting number of spins, especially if the variance is also high. We thus typically use computational methods to investigate such systems and estimate the magnetisation $M$."
   ]
  },
  {
   "cell_type": "markdown",
   "metadata": {},
   "source": [
    "## A Monte Carlo model\n",
    "The first steps of making the model will be to construct the lattice and several functions that compute essential properties of the system."
   ]
  },
  {
   "cell_type": "code",
   "execution_count": 25,
   "metadata": {},
   "outputs": [],
   "source": [
    "def init_lattice(width,latticeType):\n",
    "    '''Produce an initial lattice with spins. Type 1 gives all spins 1, type 0 gives a random spins, type -1 gives all spins -1. Captures invalid types.'''\n",
    "    shape = (width,width)\n",
    "    if latticeType == 1 or latticeType == -1:\n",
    "        return np.full(shape,latticeType)\n",
    "    elif latticeType == 0:\n",
    "        return rng.integers(0,2,shape)*2-1\n",
    "    else:\n",
    "        raise ValueError(\"Invalid Lattice Type! Accepted values are -1, 0, or 1\")\n",
    "\n",
    "def neighbouring_sites(i,j,width):\n",
    "    '''Return the coordinates of the 4 sites adjacent to [i,j] on an width*width lattice. Takes into account periodic boundary conditions.'''\n",
    "    \"\"\"\n",
    "    Returns\n",
    "    -------\n",
    "    neighbours : list(tuple(int,int))\n",
    "        List of neighbouring coordinates, formatted as a list of tuples. Order of list goes as:\n",
    "        \n",
    "        . . . . .\n",
    "        . . 0 . .\n",
    "        . 1 x 2 .\n",
    "        . . 3 . .\n",
    "        . . . . .\n",
    "        \n",
    "        Where x is the point (i,j)\n",
    "    \"\"\"\n",
    "    li = (i-1) % width\n",
    "    ri = (i+1) % width\n",
    "    uj = (j+1) % width\n",
    "    bj = (j-1) % width\n",
    "    neighbours = [(i,uj),(li,j),(ri,j),(i,bj)]\n",
    "    return neighbours\n",
    "\n",
    "def neighbouring_spins_sum(i,j,lattice,width):\n",
    "    '''Sums the spins of all neighbours of the spin at [i,j].'''\n",
    "    neighbours = neighbouring_sites(i,j,width)\n",
    "    xs,ys = list(zip(*neighbours))\n",
    "    return np.sum(lattice[xs,ys])\n",
    "\n",
    "def compute_magnetisation(lattice):\n",
    "    '''Computes the magnetisation of the lattice.'''\n",
    "    return np.sum(lattice)/lattice.size\n",
    "\n",
    "def plot_lattice(lattice,ax,title):\n",
    "    '''Plot the lattice configuration.'''\n",
    "    ax.matshow(lattice, vmin=-1, vmax=1, cmap=plt.cm.binary)\n",
    "    ax.title.set_text(title)\n",
    "    ax.set_yticklabels([])\n",
    "    ax.set_xticklabels([])\n",
    "    ax.set_yticks([])\n",
    "    ax.set_xticks([])\n",
    "    \n",
    "# Unit tests\n",
    "\n",
    "## init_lattice\n",
    "testWidth = rng.integers(5,30,1)[0]\n",
    "assert(np.allclose(init_lattice(testWidth,1), np.full((testWidth,testWidth),1)))\n",
    "assert(np.allclose(init_lattice(testWidth,-1), np.full((testWidth,testWidth),-1)))\n",
    "assert(init_lattice(testWidth,0).shape == (testWidth,testWidth))\n",
    "randomLattice = init_lattice(testWidth,0)\n",
    "assert(np.count_nonzero((randomLattice == 1) + (randomLattice==-1))==testWidth**2)\n",
    "#print(randomLattice)\n",
    "\n",
    "## neighbouring_sites\n",
    "assert(neighbouring_sites(0,4,6)==[(0,5),(5,4),(1,4),(0,3)])\n",
    "assert(neighbouring_sites(7,7,8)==[(7,0),(6,7),(0,7),(7,6)])\n",
    "\n",
    "## neighbouring_spins_sum\n",
    "width = 5\n",
    "lattice = np.array([[0 ,1 ,2 ,3 ,4 ],\n",
    "                    [5 ,6 ,7 ,8 ,9 ],\n",
    "                    [10,11,12,13,14],\n",
    "                    [15,16,17,18,19],\n",
    "                    [20,21,22,23,24]])\n",
    "assert(neighbouring_spins_sum(0,0,lattice,width)==20+4+1+5)\n",
    "assert(neighbouring_spins_sum(2,3,lattice,width)==8+12+14+18)\n",
    "assert(neighbouring_spins_sum(3,4,lattice,width)==15+14+24+18)\n",
    "assert(neighbouring_spins_sum(1,2,lattice,width)==2+6+8+12)\n",
    "\n",
    "## compute_magnetisation\n",
    "\n",
    "assert(np.allclose(compute_magnetisation(lattice),12.))"
   ]
  },
  {
   "cell_type": "markdown",
   "metadata": {},
   "source": [
    "## The Metropolis-Hastings algorithm\n",
    "In order to be physically accurate, the transitions rates in our system have to satisfy detailed balance. The Metropolis-Hastings algorithm provides us with a way to select such transition rates without a need for knowing the normalisation of the probability distribution. \n",
    "\n",
    "$P(s_i \\rightarrow -s_i) = \\min \\left(1, e^{-(\\beta E_{-s_i}-\\beta E_{s_i})}\\right) = \\min \\left(1, e^{-\\beta \\Delta E}\\right) = \\begin{cases}1 & \\text { if } \\Delta E \\leq 0 \\\\ e^{-\\beta\\Delta E} & \\text { if } \\Delta E > 0 \\end{cases}$\n",
    "\n",
    "where $\\Delta E$ is the change in energy of the total lattice.\n",
    "\n",
    "$\\Delta E = 2J s_i \\sum_j s_j + 2 \\mu H s_i $\n",
    "\n",
    "With this we can set up way to evolve the system. For convenience, it may be useful to define the interaction energies in terms of $\\beta J$ and $\\beta \\mu H$."
   ]
  },
  {
   "cell_type": "code",
   "execution_count": 109,
   "metadata": {},
   "outputs": [],
   "source": [
    "def compute_betaDeltaE(i,j,lattice,width,betaJ,betaMuH):\n",
    "    '''Computes the energy difference between the old and new state if spin [i,j] would be flipped.'''\n",
    "    nsum = neighbouring_spins_sum(i,j,lattice,width)\n",
    "    s_i = lattice[i,j]\n",
    "    return 2*s_i*(betaJ*nsum+betaMuH)\n",
    "\n",
    "def attempt_spin_flip(lattice,width,betaJ,betaMuH):\n",
    "    '''\n",
    "    Applies the Metropolis-Hastings algorithm to try and flip a spin.\n",
    "    The proposal distribution is simply picking a random spin and flipping it\n",
    "    The probability of acceptance is given by P(s_i -> -s_i) above\n",
    "    \n",
    "    Returns\n",
    "    -------\n",
    "    flipped : bool\n",
    "        Whether or not the site was successfully flipped\n",
    "    '''\n",
    "    # generate two random integers to pick our spin\n",
    "    i,j = rng.integers(0,width,2)\n",
    "    betaDeltaE = compute_betaDeltaE(i,j,lattice,width,betaJ,betaMuH)\n",
    "    Pacc = min(1,np.exp(-betaDeltaE))\n",
    "    \n",
    "    # we then generate a random number r uniformly between 0 and 1, and if r < Pacc we accept the attempt\n",
    "    r = rng.random()\n",
    "    if r < Pacc:\n",
    "        # move accepted\n",
    "        lattice[i,j] *= -1\n",
    "        return True\n",
    "    return False\n",
    "    \n",
    "\n",
    "def evolve_and_plot(lattice,betaJ,betaMuH,plot_times):\n",
    "    '''Evolves the lattice using the Metropolis-Hastings algorithm and plots the lattice at different times.'''\n",
    "    # TO DO\n",
    "    fig, ax = plt.subplots(1,len(plot_times),figsize=(12,4))\n",
    "    for t in range(plot_times[-1]+1):\n",
    "        # attempt a spin flip\n",
    "        attempt_spin_flip(lattice,width,betaJ,betaMuH)\n",
    "        \n",
    "        # plot the lattice if it's a plot time\n",
    "        if t in plot_times:\n",
    "            plot_lattice(lattice,ax[plot_times.index(t)],\"t = {}\".format(t))\n",
    "    plt.show()\n",
    "\n",
    "def evolve_and_compute_M(lattice,betaJ,betaMuH,avg_times):\n",
    "    '''\n",
    "    Evolves the lattice using the Metropolis-Hastings algorithm and returns the average magnetisation computed using different time steps.\n",
    "    \n",
    "    Parameters\n",
    "    ----------\n",
    "    lattice : np.array\n",
    "    betaJ : float\n",
    "    metaMuH :float\n",
    "    avg_times : array of ints\n",
    "        The times to use for the averaging of the magnetisation, in ascending order. The lattice will be evolved avg_times[-1] times, and\n",
    "        whenever t is an element of avg_times, the magnetisation of the lattice at that time will be included in the average to compute\n",
    "        the average magnetisation\n",
    "        \n",
    "    Returns\n",
    "    -------\n",
    "    avgM : float\n",
    "    '''\n",
    "    numAvgTimes = len(avg_times)\n",
    "    numTimeSteps = avg_times[-1]\n",
    "    \n",
    "    # avg_times cannot include 0\n",
    "    if avg_times[0] <= 0:\n",
    "        raise ValueError(\"avg_times can only contain times >= 1\")\n",
    "    \n",
    "    nextAvgTimeIndex = 0\n",
    "    Msum = 0\n",
    "    \n",
    "    for t in range(1,numTimeSteps+1):\n",
    "        # evolve lattice\n",
    "        attempt_spin_flip(lattice,width,betaJ,betaMuH)\n",
    "        \n",
    "        # for extra time efficiency we only check t against the next largest avg_time\n",
    "        if t == avg_times[nextAvgTimeIndex]:\n",
    "            # we add the magnetisation to Msum\n",
    "            nextAvgTimeIndex += 1\n",
    "            Msum += compute_magnetisation(lattice)\n",
    "    \n",
    "    avgM = Msum / numAvgTimes\n",
    "    return avgM\n",
    "            \n",
    "    "
   ]
  },
  {
   "cell_type": "markdown",
   "metadata": {},
   "source": [
    "## Testing the model\n",
    "Evolve the system and plot it at various time steps to see if it appears to behave properly. Let's first get a feel for what a random lattice really looks like. Consider a system with no coupling $\\beta J = 0$ and external magnetic field $\\beta \\mu H = 0$. Try both starting with a random lattice and a lattice with all spins in one direction."
   ]
  },
  {
   "cell_type": "code",
   "execution_count": 33,
   "metadata": {},
   "outputs": [
    {
     "data": {
      "image/png": "[encoded data removed]",
      "text/plain": [
       "<Figure size 864x288 with 6 Axes>"
      ]
     },
     "metadata": {},
     "output_type": "display_data"
    },
    {
     "data": {
      "image/png": "[encoded data removed]",
      "text/plain": [
       "<Figure size 864x288 with 6 Axes>"
      ]
     },
     "metadata": {},
     "output_type": "display_data"
    }
   ],
   "source": [
    "# Testing the Metropolis-Hastings algorithm\n",
    "plot_times = [0,10,100,1000,10000,100000]\n",
    "\n",
    "width = 20\n",
    "lattice = init_lattice(width,0)\n",
    "evolve_and_plot(lattice,0,0,plot_times)\n",
    "\n",
    "lattice2 = init_lattice(width,1)\n",
    "evolve_and_plot(lattice2,0,0,plot_times)\n",
    "\n",
    "# after many time steps lattice looks random so we're all good - width a width of 20 it takes at least 1000 iterations before we achieve\n",
    "# a semblence of randomness"
   ]
  },
  {
   "cell_type": "markdown",
   "metadata": {},
   "source": [
    "## Limiting case 1: only an external field\n",
    "When $beta J=0$ there is no coupling. In such a case, only thermal motion and the external magnetic field affect the flipping of the spins. Do a few simulations with $-3 < \\beta \\mu H < 3$ and observe what happends. Again try both starting with a random lattice and a lattice with all spins in one direction. Qualitatively explain the system behaviour."
   ]
  },
  {
   "cell_type": "code",
   "execution_count": 46,
   "metadata": {},
   "outputs": [
    {
     "data": {
      "image/png": "[encoded data removed]",
      "text/plain": [
       "<Figure size 864x288 with 6 Axes>"
      ]
     },
     "metadata": {},
     "output_type": "display_data"
    },
    {
     "data": {
      "image/png": "[encoded data removed]",
      "text/plain": [
       "<Figure size 864x288 with 6 Axes>"
      ]
     },
     "metadata": {},
     "output_type": "display_data"
    },
    {
     "data": {
      "text/plain": [
       "'\\nWhen betaMuH is non zero we expect the spins to largely align along the direction of H, but with some random fluctuation.\\nThis is exactly what we see. When betaMuH = 3 at large times we get all practically all spins up, and for -3 we get practically all down.\\nAs |betaMuH| decreases we get more thermal noise, up until the limit where at betaMuH = 0 we get complete randomness.\\nThe thermal noise is uniform as we have turned the coupling of spins off.\\n\\nThis behaves as we would expect from theory - it is energetically favourable for spins to align with H, but as temperature increases such\\nthat kT ~ muH (ie betaMuH ~ 1) we expect thermal fluctuations to start to become significant.\\n'"
      ]
     },
     "execution_count": 46,
     "metadata": {},
     "output_type": "execute_result"
    }
   ],
   "source": [
    "plot_times = [0,10,100,1000,10000,100000]\n",
    "\n",
    "width = 30\n",
    "betaJ = 0\n",
    "betaMuH=1\n",
    "lattice = init_lattice(width,0)\n",
    "evolve_and_plot(lattice,betaJ,betaMuH,plot_times)\n",
    "\n",
    "lattice2 = init_lattice(width,-1)\n",
    "evolve_and_plot(lattice2,betaJ,betaMuH,plot_times)\n",
    "\n",
    "\"\"\"\n",
    "When betaMuH is non zero we expect the spins to largely align along the direction of H, but with some random fluctuation.\n",
    "This is exactly what we see. When betaMuH = 3 at large times we get all practically all spins up, and for -3 we get practically all down.\n",
    "As |betaMuH| decreases we get more thermal noise, up until the limit where at betaMuH = 0 we get complete randomness.\n",
    "The thermal noise is uniform as we have turned the coupling of spins off.\n",
    "\n",
    "This behaves as we would expect from theory - it is energetically favourable for spins to align with H, but as temperature increases such\n",
    "that kT ~ muH (ie betaMuH ~ 1) we expect thermal fluctuations to start to become significant.\n",
    "\"\"\""
   ]
  },
  {
   "cell_type": "markdown",
   "metadata": {},
   "source": [
    "In the case of no coupling, an analytical expression for the mean magnetisation $\\langle M\\rangle$ exists. The expression is:\n",
    "\n",
    "$\\langle M\\rangle = \\tanh \\left(\\beta \\mu H \\right)$\n",
    "\n",
    "Show that the Monte Carlo method correctly repoduces the above analytical formula."
   ]
  },
  {
   "cell_type": "code",
   "execution_count": 58,
   "metadata": {},
   "outputs": [
    {
     "data": {
      "image/png": "[encoded data removed]",
      "text/plain": [
       "<Figure size 432x288 with 1 Axes>"
      ]
     },
     "metadata": {
      "needs_background": "light"
     },
     "output_type": "display_data"
    },
    {
     "data": {
      "text/plain": [
       "'\\nWe get great agreement between the analytical expression and the simulated magnetisation\\n'"
      ]
     },
     "execution_count": 58,
     "metadata": {},
     "output_type": "execute_result"
    }
   ],
   "source": [
    "betaMuHs_analytical = np.linspace(-3,3,100) # betaMuH values to plot\n",
    "M_analytical = np.tanh(betaMuHs_analytical)\n",
    "\n",
    "betaJ = 0\n",
    "\n",
    "# we'll use a width of 20, and we know from our testing above that the lattice equilibrises within 1000 timesteps, so averaging every 1000\n",
    "# times will be suitable. We take 50 points to average for a total of 50,000 timesteps\n",
    "avg_times = np.arange(1000,50001,1000)\n",
    "\n",
    "# for the sake of time we'll only do 20 values of betaMuH\n",
    "betaMuHs_simulated = np.linspace(-3,3,20)\n",
    "width = 20\n",
    "M_sim = []\n",
    "for betaMuH in betaMuHs_simulated:\n",
    "    lattice = init_lattice(width,0)\n",
    "    M_sim.append(evolve_and_compute_M(lattice,betaJ,betaMuH,avg_times))\n",
    "    \n",
    "plt.plot(betaMuHs_analytical,M_analytical,\"k-\",label=\"Analytical $<M>$\")\n",
    "plt.plot(betaMuHs_simulated,M_sim,\"rx\",label=\"Simulated $<M>$\")\n",
    "\n",
    "plt.xlabel ('Magnetic field strength betaMuH')\n",
    "plt.ylabel ('Magnetisation M')\n",
    "plt.legend(loc='upper left')\n",
    "plt.show()\n",
    "\n",
    "\"\"\"\n",
    "We get great agreement between the analytical expression and the simulated magnetisation\n",
    "\"\"\""
   ]
  },
  {
   "cell_type": "markdown",
   "metadata": {},
   "source": [
    "## Limiting case 2: only coupling\n",
    "\n",
    "Now let us investigate coupling without an external magnetic field. Try the same as previously, using different starting conditions, but introduce some ferromagnetic coupling ($\\beta J = 0.2$) or anti-ferromagnetic coupling ($\\beta J = -0.2$). Qualitatively explain the system behaviour."
   ]
  },
  {
   "cell_type": "code",
   "execution_count": 110,
   "metadata": {},
   "outputs": [
    {
     "data": {
      "image/png": "[encoded data removed]",
      "text/plain": [
       "<Figure size 864x288 with 6 Axes>"
      ]
     },
     "metadata": {},
     "output_type": "display_data"
    },
    {
     "data": {
      "image/png": "[encoded data removed]",
      "text/plain": [
       "<Figure size 864x288 with 6 Axes>"
      ]
     },
     "metadata": {},
     "output_type": "display_data"
    },
    {
     "data": {
      "text/plain": [
       "\"\\nFor betaJ=0.2: Now when we see randomness in the spins, they're clumped up, as expected from the fact that adjacent spins are preferentially aligned.\\nIf we increase betaJ to 0.3 we see even more clumping. Now it takes ~10000 timesteps to reach equilibrium for a width of 20\\n\\nFor betaJ = -0.2 (antiferromagnetic) we expect to see something like a checkerboard pattern as spins want to be antialigned with their neighbours.\\nWe can see regions of this occuring, but random thermal perturbations stop the phase being ordered for betaJ=-0.2.\\nIf we make betaJ even smaller, for example -1, we can see much more clearly the ordered checkerboard phase, with some anti-phase boundaries\\nthrough the lattice\\n\""
      ]
     },
     "execution_count": 110,
     "metadata": {},
     "output_type": "execute_result"
    }
   ],
   "source": [
    "plot_times = [0,10,100,1000,10000,100000]\n",
    "\n",
    "width = 100\n",
    "betaJ = -1\n",
    "betaMuH = 0\n",
    "lattice = init_lattice(width,0)\n",
    "evolve_and_plot(lattice,betaJ,betaMuH,plot_times)\n",
    "\n",
    "lattice2 = init_lattice(width,-1)\n",
    "evolve_and_plot(lattice2,betaJ,betaMuH,plot_times)\n",
    "\n",
    "\"\"\"\n",
    "For betaJ=0.2: Now when we see randomness in the spins, they're clumped up, as expected from the fact that adjacent spins are preferentially aligned.\n",
    "If we increase betaJ to 0.3 we see even more clumping. Now it takes ~10000 timesteps to reach equilibrium for a width of 20\n",
    "\n",
    "For betaJ = -0.2 (antiferromagnetic) we expect to see something like a checkerboard pattern as spins want to be antialigned with their neighbours.\n",
    "We can see regions of this occuring, but random thermal perturbations stop the phase being ordered for betaJ=-0.2.\n",
    "If we make betaJ even smaller, for example -1, we can see much more clearly the ordered checkerboard phase, with some anti-phase boundaries\n",
    "through the lattice\n",
    "\"\"\""
   ]
  },
  {
   "cell_type": "markdown",
   "metadata": {},
   "source": [
    "Also for this case, no field and only coupling, Lars Onsanger discovered an analytical solution:\n",
    "\n",
    "$\\langle M\\rangle= \\begin{cases}0 & \\text { if } T \\geq T_c \\\\ \\pm \\left(1-\\sinh \\left(2 \\beta J\\right)^{-4}\\right)^{\\frac{1}{8}} & \\text { if } T<T_c\\end{cases}$\n",
    "\n",
    "where $T_c$ is the critical temperature given by\n",
    "\n",
    "$T_c=\\frac{2 J}{k_b \\ln (1+\\sqrt{2})}$\n",
    "\n",
    "Show again that the Monte Carlo method correctly repoduces the above analytical formula. What do you notice about the system around the critical point?\n",
    "\n",
    "Hint: The system will equilibrate much faster if you start with an initial state that is close to the expected final state."
   ]
  },
  {
   "cell_type": "code",
   "execution_count": 74,
   "metadata": {},
   "outputs": [
    {
     "data": {
      "image/png": "[encoded data removed]",
      "text/plain": [
       "<Figure size 432x288 with 1 Axes>"
      ]
     },
     "metadata": {
      "needs_background": "light"
     },
     "output_type": "display_data"
    }
   ],
   "source": [
    "betaMuH = 0\n",
    "# critical value of betaJ = ln(1+sqrt(2)/2 = 0.44\n",
    "betaJcrit = np.log(1+np.sqrt(2))/2\n",
    "# if betaJ is larger than this T<T_c\n",
    "# if betaJ is smaller T>T_c\n",
    "\n",
    "# define range of betaJs to test\n",
    "minBetaJ = betaJcrit*0.75\n",
    "maxBetaJ = betaJcrit*1.25\n",
    "betaJanalytical = np.linspace(minBetaJ,maxBetaJ,100)\n",
    "\n",
    "# calculate the analytical magnetisation\n",
    "def analyticalCouplingMPlus(betaJ):\n",
    "    if betaJ <= betaJcrit:\n",
    "        # T > T_c\n",
    "        return 0\n",
    "    else:\n",
    "        return (1-np.sinh(2*betaJ)**(-4))**(1/8)\n",
    "    \n",
    "def analyticalCouplingMMinus(betaJ):\n",
    "    if betaJ <= betaJcrit:\n",
    "        # T > T_c\n",
    "        return 0\n",
    "    else:\n",
    "        # T < T_c\n",
    "        return -(1-np.sinh(2*betaJ)**(-4))**(1/8)\n",
    "\n",
    "# I tried vectorizing these functions but numpy didn't like them for some reason\n",
    "\n",
    "analyticalMPlus = np.array([analyticalCouplingMPlus(betaJ) for betaJ in betaJanalytical])\n",
    "analyticalMMinus = np.array([analyticalCouplingMMinus(betaJ) for betaJ in betaJanalytical])\n",
    "\n",
    "\n",
    "# Simuatle the system at different coupling strengths\n",
    "\n",
    "betaJsim = np.linspace(minBetaJ,maxBetaJ,15)\n",
    "simMPlus = []\n",
    "simMMinus = []\n",
    "width = 20\n",
    "avg_times = np.arange(5000,70001,1000)\n",
    "# avg_times = np.arange(100,500,100)\n",
    "for betaJ in betaJsim:\n",
    "    # we force the lattice to start either all spin up or spin down once we're\n",
    "    # higher than betaJ so that we can find the equilibrium faster\n",
    "    if betaJ < betaJcrit:\n",
    "        lattice = init_lattice(width,0)\n",
    "        avgM = evolve_and_compute_M(lattice,betaJ,betaMuH,avg_times)\n",
    "        simMPlus.append(avgM)\n",
    "        simMMinus.append(avgM)\n",
    "    else:\n",
    "        # do first starting with all spins up\n",
    "        lattice = init_lattice(width,1)\n",
    "        avgM = evolve_and_compute_M(lattice,betaJ,betaMuH,avg_times)\n",
    "        simMPlus.append(avgM)\n",
    "        \n",
    "        # do again starting with all spins down\n",
    "        lattice = init_lattice(width,-1)\n",
    "        avgM = evolve_and_compute_M(lattice,betaJ,betaMuH,avg_times)\n",
    "        simMMinus.append(avgM)\n",
    "\n",
    "# Plot\n",
    "\n",
    "plt.plot(betaJanalytical,analyticalMPlus,\"k-\")\n",
    "plt.plot(betaJanalytical,analyticalMMinus,\"k-\",label=\"Analytical <M>\")\n",
    "\n",
    "plt.plot(betaJsim,simMMinus,\"rx\",label=\"Simulated <M>\")\n",
    "plt.plot(betaJsim,simMPlus,\"rx\")\n",
    "\n",
    "plt.xlabel ('Coupling strength betaJ')\n",
    "\n",
    "plt.ylabel ('Magnetisation M')\n",
    "plt.legend(loc='upper left')\n",
    "plt.show()"
   ]
  },
  {
   "cell_type": "code",
   "execution_count": 75,
   "metadata": {},
   "outputs": [
    {
     "data": {
      "text/plain": [
       "'\\nWe get decent agreement away from the critical point, but close to the critical point we get large fluctuations. This is to be expected from\\nthe thermodynamics - as a critical point is approached, the fluctuations in the order parameter diverge.\\n'"
      ]
     },
     "execution_count": 75,
     "metadata": {},
     "output_type": "execute_result"
    }
   ],
   "source": [
    "\"\"\"\n",
    "We get decent agreement away from the critical point, but close to the critical point we get large fluctuations. This is to be expected from\n",
    "the thermodynamics - as a critical point is approached, the fluctuations in the order parameter diverge.\n",
    "\"\"\""
   ]
  },
  {
   "cell_type": "markdown",
   "metadata": {},
   "source": [
    "## Optional: implement the Wolff algorithm\n",
    "**One more non-optional exercise after this, please look ahead.** In some cases, as you might realise in the next exercise, it can take quite long for the Metropolis-Hastings algorithm to sample the state space of the system. The Wolff algorithm was developed to speed up the exploration of the state space by flipping multiple spins (of the same sign) at once.\n",
    "\n",
    "The algorithm works as follows:\n",
    "\n",
    "- Select a spin $s_i$ at random\n",
    "\n",
    "- Start checking all neighbouring spins $s_j$\n",
    "\n",
    "- Add a neighbouring spin $s_j$ to the cluster with probability $P_{add} = 1-\\exp(-\\beta \\Delta E)$, but only if it has the same sign as $s_i$\n",
    "\n",
    "- Repeat until no unvisited neighbours remain\n",
    "\n",
    "- Flip all spins\n",
    "\n",
    "Implement Wolff algorithm and compare the equilibration speed to that of the Metropolis-Hastings algorithm for a system with only coupling ($\\beta J=0.2$). Hint: In practice it is more convenient to already flip all visited spins.\n",
    "\n",
    "For the interested reader, an even more efficient method is the Swendsen-Wang algorithm (https://en.wikipedia.org/wiki/Swendsen%E2%80%93Wang_algorithm)."
   ]
  },
  {
   "cell_type": "code",
   "execution_count": 9,
   "metadata": {},
   "outputs": [],
   "source": [
    "def spin_flip_wolff(lattice,width,betaJ,betaMuH):\n",
    "    '''Applies the Wolff algorithm to try and flip a spin.'''\n",
    "    i,j = rng.integers(0,width,2) # Select a random seed\n",
    "    # TO DO\n",
    "    unvisited = # TO DO\n",
    "    while (len(unvisited)>0):   # while unvisited sites remain\n",
    "        i,j = unvisited.pop(0)  # take one and remove from the unvisited list\n",
    "        for x,y in neighbouring_sites(i,j,width):\n",
    "            # TO DO\n",
    "    return cluster_size\n",
    "\n",
    "def evolve_and_plot_wolff(lattice,betaJ,betaMuH,plot_times):\n",
    "    '''Evolves the lattice using the Wolff algorithm and plots the lattice at different times.'''\n",
    "    # TO DO\n",
    "    fig, ax = plt.subplots(1,len(plot_times),figsize=(12,4))\n",
    "    for t in range(plot_times[-1]+1):\n",
    "        # TO DO\n",
    "        if t in plot_times:\n",
    "            plot_lattice(lattice,ax[plot_times.index(t)],\"t = {}\".format(t))\n",
    "    plt.show()"
   ]
  },
  {
   "cell_type": "code",
   "execution_count": null,
   "metadata": {},
   "outputs": [],
   "source": [
    "# Testing the Wolff algorithm if it has been implemented\n",
    "\n",
    "# TO DO"
   ]
  },
  {
   "cell_type": "markdown",
   "metadata": {},
   "source": [
    "## Mandatory: Magnetic susceptibility\n",
    "A common problem in physical simulations is that we are limited in the size of the systems that we can simulate within a reasonable time. Periodic boundary conditions are typically a good way of circumventing problems caused by finite systems, but some problems cannot be circumvented that easily. The magnetisation of the 2D Ising model shows a continuous phase transition, and statistical physics tells us the correlation length $\\xi$ of the system thus follows the relation\n",
    "\n",
    "$\\xi \\sim\\left|T-T_c\\right|^{-\\nu}$\n",
    "\n",
    "with $\\nu$ is called the critical exponent. This means that the correlation length will quickly diverge near the critical point and correlate most, if not all, spins in the system with each other. This strongly affects the magnetic susceptibility $\\chi$ that is defined as\n",
    "\n",
    "$\\chi=\\frac{1}{N} \\frac{\\partial M}{\\partial H}=\\frac{\\beta}{N}\\left(\\left\\langle M^2\\right\\rangle-\\langle M \\rangle^2\\right)$.\n",
    "\n",
    "Run a number of tests to see how the magnetic susceptibility $\\chi$ changes as the critical temperature of the system is approached. Repeat this for a smaller or larger lattice. What does this tell you about our ability to get accurate average properties for the system near the critical temperature?\n",
    "\n",
    "Note: It is more convenient to use the definition of magnetic susceptibility that uses the variance of the magnetisation than the definition of the gradient w.r.t. the magnetic field."
   ]
  },
  {
   "cell_type": "code",
   "execution_count": 77,
   "metadata": {},
   "outputs": [],
   "source": [
    "def evolve_and_computeChi(lattice,beta,J,MuH,avg_times):\n",
    "    '''\n",
    "    Evolves the lattice using the Metropolis-Hastings algorithm and returns the magnetic susceptibility computed using different time steps.\n",
    "    \n",
    "    Parameters\n",
    "    ----------\n",
    "    lattice : np.array\n",
    "    beta : float\n",
    "    J : float\n",
    "    MuH : float\n",
    "    avg_times : array of ints\n",
    "        The times to use for the averaging of the magnetisation, in ascending order. The lattice will be evolved avg_times[-1] times, and\n",
    "        whenever t is an element of avg_times, the magnetisation of the lattice at that time will be included in the average to compute\n",
    "        the average magnetisation\n",
    "        \n",
    "    Returns\n",
    "    -------\n",
    "    chi : float\n",
    "    '''\n",
    "    betaJ = beta * J\n",
    "    betaMuH = beta * MuH\n",
    "    numAvgTimes = len(avg_times)\n",
    "    numTimeSteps = avg_times[-1]\n",
    "    \n",
    "    # avg_times cannot include 0\n",
    "    if avg_times[0] <= 0:\n",
    "        raise ValueError(\"avg_times can only contain times >= 1\")\n",
    "    \n",
    "    nextAvgTimeIndex = 0\n",
    "    Ms = []\n",
    "    \n",
    "    for t in range(1,numTimeSteps+1):\n",
    "        # evolve lattice\n",
    "        attempt_spin_flip(lattice,width,betaJ,betaMuH)\n",
    "        \n",
    "        # for extra time efficiency we only check t against the next largest avg_time\n",
    "        if t == avg_times[nextAvgTimeIndex]:\n",
    "            # we add the magnetisation to Msum\n",
    "            nextAvgTimeIndex += 1\n",
    "            Ms.append(compute_magnetisation(lattice))\n",
    "    \n",
    "    Ms = np.array(Ms)\n",
    "    # I don't think there should be 1 / N in this formula so I'm not going to put one there\n",
    "    chi = beta * np.var(Ms)\n",
    "    \n",
    "    return chi"
   ]
  },
  {
   "cell_type": "code",
   "execution_count": 89,
   "metadata": {},
   "outputs": [
    {
     "data": {
      "image/png": "[encoded data removed]",
      "text/plain": [
       "<Figure size 432x288 with 1 Axes>"
      ]
     },
     "metadata": {
      "needs_background": "light"
     },
     "output_type": "display_data"
    }
   ],
   "source": [
    "# Simulate the system at different coupling strengths (relative to the critical temperature)\n",
    "\n",
    "# we set betaMuH to 0 to get zero field susceptibility\n",
    "betaMuH = 0\n",
    "# we also set a value for J so that we can compute beta (necessary to get chi)\n",
    "J = 1\n",
    "\n",
    "# critical value of betaJ = ln(1+sqrt(2)/2 = 0.44\n",
    "betaJcrit = np.log(1+np.sqrt(2))/2\n",
    "# if betaJ is larger than this T<T_c\n",
    "# if betaJ is smaller T>T_c\n",
    "\n",
    "# define range of betaJs to test\n",
    "minBetaJ = betaJcrit*0\n",
    "maxBetaJ = betaJcrit*1.5\n",
    "betaJanalytical = np.linspace(minBetaJ,maxBetaJ,100)\n",
    "\n",
    "betaJsim = np.linspace(minBetaJ,maxBetaJ,15)\n",
    "simChiPlus = []\n",
    "simChiMinus = []\n",
    "width = 20\n",
    "avg_times = np.arange(10000,80001,2000)\n",
    "# avg_times = np.arange(100,500,100)\n",
    "for betaJ in betaJsim:\n",
    "    # get beta from betaJ and J\n",
    "    beta = betaJ/J\n",
    "    \n",
    "    # we force the lattice to start either all spin up or spin down once we're\n",
    "    # higher than betaJ so that we can find the equilibrium faster\n",
    "    if betaJ < betaJcrit:\n",
    "        # random lattice\n",
    "        lattice = init_lattice(width,0)\n",
    "        chi = evolve_and_computeChi(lattice,beta,betaJ,betaMuH,avg_times)\n",
    "        simChiPlus.append(chi)\n",
    "        simChiMinus.append(chi)\n",
    "    else:\n",
    "        # do first starting with all spins up\n",
    "        lattice = init_lattice(width,1)\n",
    "        chi = evolve_and_computeChi(lattice,beta,betaJ,betaMuH,avg_times)\n",
    "        simChiPlus.append(chi)\n",
    "        \n",
    "        # do again starting with all spins down\n",
    "        lattice = init_lattice(width,-1)\n",
    "        chi = evolve_and_computeChi(lattice,beta,betaJ,betaMuH,avg_times)\n",
    "        simChiMinus.append(chi)\n",
    "\n",
    "# Plot\n",
    "\n",
    "plt.plot(betaJsim/betaJcrit,simChiMinus,\"rx\",label=\"Simulated <$\\\\chi$>\")\n",
    "plt.plot(betaJsim/betaJcrit,simChiPlus,\"rx\")\n",
    "\n",
    "plt.title(\"Simulated Magnetic Susceptibility vscoupling strength for a 20 x 20 lattice\")\n",
    "plt.xlabel('Relative coupling strength $\\\\beta J \\\\; / \\\\; \\\\beta J_C$')\n",
    "plt.ylabel('Magnetic susceptibility Chi')\n",
    "plt.show()"
   ]
  },
  {
   "cell_type": "code",
   "execution_count": 108,
   "metadata": {},
   "outputs": [
    {
     "data": {
      "image/png": "[encoded data removed]",
      "text/plain": [
       "<Figure size 792x360 with 1 Axes>"
      ]
     },
     "metadata": {
      "needs_background": "light"
     },
     "output_type": "display_data"
    }
   ],
   "source": [
    "# Smaller or larger lattice to show susceptibility changes\n",
    "\n",
    "# we set betaMuH to 0 to get zero field susceptibility\n",
    "betaMuH = 0\n",
    "# we also set a value for J so that we can compute beta (necessary to get chi)\n",
    "J = 1\n",
    "\n",
    "# critical value of betaJ = ln(1+sqrt(2)/2 = 0.44\n",
    "betaJcrit = np.log(1+np.sqrt(2))/2\n",
    "# if betaJ is larger than this T<T_c\n",
    "# if betaJ is smaller T>T_c\n",
    "\n",
    "# define range of betaJs to test\n",
    "minBetaJ = betaJcrit*0\n",
    "maxBetaJ = betaJcrit*2\n",
    "betaJanalytical = np.linspace(minBetaJ,maxBetaJ,100)\n",
    "\n",
    "betaJsim = np.linspace(minBetaJ,maxBetaJ,16)\n",
    "avg_times = np.arange(5000,50001,1000)\n",
    "# avg_times = np.arange(100,500,100)\n",
    "\n",
    "# don't want to go as high as 64 because then we can't average every 1000 (32^2 ~ 1000)\n",
    "# can't take larger timesteps because this code already takes very long to run\n",
    "widths = [4,8,16,32]\n",
    "\n",
    "# set up plots\n",
    "fig, ax = plt.subplots(1,1,figsize=(11,5))\n",
    "\n",
    "for width in widths:\n",
    "    simChiPlus = []\n",
    "    simChiMinus = []\n",
    "    for betaJ in betaJsim:\n",
    "        # get beta from betaJ and J\n",
    "        beta = betaJ/J\n",
    "\n",
    "        # we force the lattice to start either all spin up or spin down once we're\n",
    "        # higher than betaJ so that we can find the equilibrium faster\n",
    "        if betaJ < betaJcrit:\n",
    "            # random lattice\n",
    "            lattice = init_lattice(width,0)\n",
    "            chi = evolve_and_computeChi(lattice,beta,betaJ,betaMuH,avg_times)\n",
    "            simChiPlus.append(chi)\n",
    "            simChiMinus.append(chi)\n",
    "        else:\n",
    "            # do first starting with all spins up\n",
    "            lattice = init_lattice(width,1)\n",
    "            chi = evolve_and_computeChi(lattice,beta,betaJ,betaMuH,avg_times)\n",
    "            simChiPlus.append(chi)\n",
    "\n",
    "            # do again starting with all spins down\n",
    "            lattice = init_lattice(width,-1)\n",
    "            chi = evolve_and_computeChi(lattice,beta,betaJ,betaMuH,avg_times)\n",
    "            simChiMinus.append(chi)\n",
    "\n",
    "    # plot\n",
    "\n",
    "    p = ax.plot(betaJsim/betaJcrit,simChiMinus,marker=\"x\",ls=\"\",label=\"Width {0}\".format(width))\n",
    "    ax.plot(betaJsim/betaJcrit,simChiPlus,marker=\"x\",ls=\"\",c=p[0].get_color())\n",
    "\n",
    "fig.suptitle(\"Simulated Magnetic Susceptibility vs Temperature (J=1)\")\n",
    "ax.set_xlabel('Relative coupling strength $\\\\beta \\\\; / \\\\; \\\\beta_C$')\n",
    "ax.set_ylabel('Magnetic susceptibility Chi')\n",
    "ax.legend()\n",
    "plt.tight_layout()\n",
    "plt.show()"
   ]
  },
  {
   "cell_type": "code",
   "execution_count": 107,
   "metadata": {},
   "outputs": [
    {
     "data": {
      "text/plain": [
       "\"\\nFrom the plot above, for small lattices we get very large fluctuations in chi once under the critical temperature. Interestingly, these fluctuations\\ndon't seem to happen *at* the critical temperature, rather slightly below. This shows us that to be able to get average\\nproperties of a system close to its critical temperature, we need to have large simulations, which then require a larger number of time steps to reach\\nequilibrium.\\n\""
      ]
     },
     "execution_count": 107,
     "metadata": {},
     "output_type": "execute_result"
    }
   ],
   "source": [
    "\"\"\"\n",
    "From the plot above, for small lattices we get very large fluctuations in chi once under the critical temperature. Interestingly, these fluctuations\n",
    "don't seem to happen *at* the critical temperature, rather slightly below. This shows us that to be able to get average\n",
    "properties of a system close to its critical temperature, we need to have large simulations, which then require a larger number of time steps to reach\n",
    "equilibrium.\n",
    "\"\"\""
   ]
  },
  {
   "cell_type": "markdown",
   "metadata": {},
   "source": [
    "## Optional: Further assignments\n",
    "\n",
    "**Investigate finite-size scaling of the lattice.** The critical temperature varies as a function of the lattice size $N=w*w$\n",
    "\n",
    "$T_c(N) = T_c(\\infty)+aN^{-1/b}$\n",
    "\n",
    "with $a$ and $b$ being constants to estimate. Compare your estimated $T_c(\\infty)$ to Onsanger's analytical result.\n",
    "\n",
    "**Compute the decorrelation time of the magnetisation to determine the proper equilibration time.** The autovariance is defined as\n",
    "\n",
    "$A(\\tau)=\\langle M'(t)M'(t+\\tau) \\rangle$\n",
    "\n",
    "where $M'=M-\\langle M \\rangle$ and $\\tau$ is the lag time. The autocorrelation is then given by $a(\\tau)=\\frac{A(\\tau)}{A(0)}$. The decorrelation time can them be said to be $\\tau$ for which $a(\\tau)$ has dropped to $1/e$.\n",
    "\n",
    "**Determine the heat capacity.** The fluctuation dissipation theorem states that the heat capacity of the system is given by\n",
    "\n",
    "$C=\\frac{\\sigma_E}{k_B T^2} $\n",
    "\n",
    "with $\\sigma_E$ being the standard deviation in the system energy."
   ]
  }
 ],
 "metadata": {
  "kernelspec": {
   "display_name": "Python 3 (ipykernel)",
   "language": "python",
   "name": "python3"
  },
  "language_info": {
   "codemirror_mode": {
    "name": "ipython",
    "version": 3
   },
   "file_extension": ".py",
   "mimetype": "text/x-python",
   "name": "python",
   "nbconvert_exporter": "python",
   "pygments_lexer": "ipython3",
   "version": "3.9.7"
  },
  "vscode": {
   "interpreter": {
    "hash": "90a5da22892c8820ccdd069fc254a4ff176e1cd4a8feee0faeb91d257a69cb19"
   }
  }
 },
 "nbformat": 4,
 "nbformat_minor": 4
}
